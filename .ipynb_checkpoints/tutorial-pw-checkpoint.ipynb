{
 "cells": [
  {
   "cell_type": "code",
   "execution_count": 1,
   "id": "16203907",
   "metadata": {},
   "outputs": [
    {
     "name": "stdout",
     "output_type": "stream",
     "text": [
      "Collecting rdkit-pypi\n",
      "  Using cached rdkit_pypi-2022.3.5-cp310-cp310-win_amd64.whl (27.8 MB)\n",
      "Requirement already satisfied: pandas in c:\\users\\franc\\anaconda3\\envs\\my-rdkit-env\\lib\\site-packages (1.5.0)\n",
      "Collecting seaborn\n",
      "  Using cached seaborn-0.12.0-py3-none-any.whl (285 kB)\n",
      "Collecting mols2grid\n",
      "  Using cached mols2grid-1.0.0-py2.py3-none-any.whl (100 kB)\n",
      "Collecting requests\n",
      "  Using cached requests-2.28.1-py3-none-any.whl (62 kB)\n",
      "Requirement already satisfied: numpy in c:\\users\\franc\\anaconda3\\envs\\my-rdkit-env\\lib\\site-packages (from rdkit-pypi) (1.23.3)\n",
      "Requirement already satisfied: Pillow in c:\\users\\franc\\anaconda3\\envs\\my-rdkit-env\\lib\\site-packages (from rdkit-pypi) (9.2.0)\n",
      "Requirement already satisfied: python-dateutil>=2.8.1 in c:\\users\\franc\\anaconda3\\envs\\my-rdkit-env\\lib\\site-packages (from pandas) (2.8.2)\n",
      "Requirement already satisfied: pytz>=2020.1 in c:\\users\\franc\\anaconda3\\envs\\my-rdkit-env\\lib\\site-packages (from pandas) (2022.4)\n",
      "Requirement already satisfied: matplotlib>=3.1 in c:\\users\\franc\\anaconda3\\envs\\my-rdkit-env\\lib\\site-packages (from seaborn) (3.6.0)\n",
      "Requirement already satisfied: jinja2>=2.11.0 in c:\\users\\franc\\anaconda3\\envs\\my-rdkit-env\\lib\\site-packages (from mols2grid) (3.0.3)\n",
      "Collecting ipywidgets<8,>=7\n",
      "  Using cached ipywidgets-7.7.2-py2.py3-none-any.whl (123 kB)\n",
      "Collecting urllib3<1.27,>=1.21.1\n",
      "  Using cached urllib3-1.26.12-py2.py3-none-any.whl (140 kB)\n",
      "Collecting idna<4,>=2.5\n",
      "  Using cached idna-3.4-py3-none-any.whl (61 kB)\n",
      "Requirement already satisfied: certifi>=2017.4.17 in c:\\users\\franc\\anaconda3\\envs\\my-rdkit-env\\lib\\site-packages (from requests) (2022.9.24)\n",
      "Collecting charset-normalizer<3,>=2\n",
      "  Using cached charset_normalizer-2.1.1-py3-none-any.whl (39 kB)\n",
      "Requirement already satisfied: ipython>=4.0.0 in c:\\users\\franc\\anaconda3\\envs\\my-rdkit-env\\lib\\site-packages (from ipywidgets<8,>=7->mols2grid) (8.4.0)\n",
      "Collecting jupyterlab-widgets<3,>=1.0.0\n",
      "  Using cached jupyterlab_widgets-1.1.1-py3-none-any.whl (245 kB)\n",
      "Requirement already satisfied: ipykernel>=4.5.1 in c:\\users\\franc\\anaconda3\\envs\\my-rdkit-env\\lib\\site-packages (from ipywidgets<8,>=7->mols2grid) (6.15.2)\n",
      "Requirement already satisfied: traitlets>=4.3.1 in c:\\users\\franc\\anaconda3\\envs\\my-rdkit-env\\lib\\site-packages (from ipywidgets<8,>=7->mols2grid) (5.1.1)\n",
      "Requirement already satisfied: ipython-genutils~=0.2.0 in c:\\users\\franc\\anaconda3\\envs\\my-rdkit-env\\lib\\site-packages (from ipywidgets<8,>=7->mols2grid) (0.2.0)\n",
      "Collecting widgetsnbextension~=3.6.0\n",
      "  Using cached widgetsnbextension-3.6.1-py2.py3-none-any.whl (1.6 MB)\n",
      "Requirement already satisfied: MarkupSafe>=2.0 in c:\\users\\franc\\anaconda3\\envs\\my-rdkit-env\\lib\\site-packages (from jinja2>=2.11.0->mols2grid) (2.1.1)\n",
      "Requirement already satisfied: contourpy>=1.0.1 in c:\\users\\franc\\anaconda3\\envs\\my-rdkit-env\\lib\\site-packages (from matplotlib>=3.1->seaborn) (1.0.5)\n",
      "Requirement already satisfied: kiwisolver>=1.0.1 in c:\\users\\franc\\anaconda3\\envs\\my-rdkit-env\\lib\\site-packages (from matplotlib>=3.1->seaborn) (1.4.4)\n",
      "Requirement already satisfied: pyparsing>=2.2.1 in c:\\users\\franc\\anaconda3\\envs\\my-rdkit-env\\lib\\site-packages (from matplotlib>=3.1->seaborn) (3.0.9)\n",
      "Requirement already satisfied: cycler>=0.10 in c:\\users\\franc\\anaconda3\\envs\\my-rdkit-env\\lib\\site-packages (from matplotlib>=3.1->seaborn) (0.11.0)\n",
      "Requirement already satisfied: fonttools>=4.22.0 in c:\\users\\franc\\anaconda3\\envs\\my-rdkit-env\\lib\\site-packages (from matplotlib>=3.1->seaborn) (4.37.4)\n",
      "Requirement already satisfied: packaging>=20.0 in c:\\users\\franc\\anaconda3\\envs\\my-rdkit-env\\lib\\site-packages (from matplotlib>=3.1->seaborn) (21.3)\n",
      "Requirement already satisfied: six>=1.5 in c:\\users\\franc\\anaconda3\\envs\\my-rdkit-env\\lib\\site-packages (from python-dateutil>=2.8.1->pandas) (1.16.0)\n",
      "Requirement already satisfied: tornado>=6.1 in c:\\users\\franc\\anaconda3\\envs\\my-rdkit-env\\lib\\site-packages (from ipykernel>=4.5.1->ipywidgets<8,>=7->mols2grid) (6.2)\n",
      "Requirement already satisfied: psutil in c:\\users\\franc\\anaconda3\\envs\\my-rdkit-env\\lib\\site-packages (from ipykernel>=4.5.1->ipywidgets<8,>=7->mols2grid) (5.9.0)\n",
      "Requirement already satisfied: matplotlib-inline>=0.1 in c:\\users\\franc\\anaconda3\\envs\\my-rdkit-env\\lib\\site-packages (from ipykernel>=4.5.1->ipywidgets<8,>=7->mols2grid) (0.1.6)\n",
      "Requirement already satisfied: pyzmq>=17 in c:\\users\\franc\\anaconda3\\envs\\my-rdkit-env\\lib\\site-packages (from ipykernel>=4.5.1->ipywidgets<8,>=7->mols2grid) (23.2.0)\n",
      "Requirement already satisfied: jupyter-client>=6.1.12 in c:\\users\\franc\\anaconda3\\envs\\my-rdkit-env\\lib\\site-packages (from ipykernel>=4.5.1->ipywidgets<8,>=7->mols2grid) (7.3.5)\n",
      "Requirement already satisfied: debugpy>=1.0 in c:\\users\\franc\\anaconda3\\envs\\my-rdkit-env\\lib\\site-packages (from ipykernel>=4.5.1->ipywidgets<8,>=7->mols2grid) (1.5.1)\n",
      "Requirement already satisfied: nest-asyncio in c:\\users\\franc\\anaconda3\\envs\\my-rdkit-env\\lib\\site-packages (from ipykernel>=4.5.1->ipywidgets<8,>=7->mols2grid) (1.5.5)\n",
      "Requirement already satisfied: colorama in c:\\users\\franc\\anaconda3\\envs\\my-rdkit-env\\lib\\site-packages (from ipython>=4.0.0->ipywidgets<8,>=7->mols2grid) (0.4.5)\n",
      "Requirement already satisfied: pickleshare in c:\\users\\franc\\anaconda3\\envs\\my-rdkit-env\\lib\\site-packages (from ipython>=4.0.0->ipywidgets<8,>=7->mols2grid) (0.7.5)\n",
      "Requirement already satisfied: pygments>=2.4.0 in c:\\users\\franc\\anaconda3\\envs\\my-rdkit-env\\lib\\site-packages (from ipython>=4.0.0->ipywidgets<8,>=7->mols2grid) (2.11.2)\n",
      "Requirement already satisfied: decorator in c:\\users\\franc\\anaconda3\\envs\\my-rdkit-env\\lib\\site-packages (from ipython>=4.0.0->ipywidgets<8,>=7->mols2grid) (5.1.1)\n",
      "Requirement already satisfied: jedi>=0.16 in c:\\users\\franc\\anaconda3\\envs\\my-rdkit-env\\lib\\site-packages (from ipython>=4.0.0->ipywidgets<8,>=7->mols2grid) (0.18.1)\n",
      "Requirement already satisfied: stack-data in c:\\users\\franc\\anaconda3\\envs\\my-rdkit-env\\lib\\site-packages (from ipython>=4.0.0->ipywidgets<8,>=7->mols2grid) (0.2.0)\n",
      "Requirement already satisfied: backcall in c:\\users\\franc\\anaconda3\\envs\\my-rdkit-env\\lib\\site-packages (from ipython>=4.0.0->ipywidgets<8,>=7->mols2grid) (0.2.0)\n",
      "Requirement already satisfied: setuptools>=18.5 in c:\\users\\franc\\anaconda3\\envs\\my-rdkit-env\\lib\\site-packages (from ipython>=4.0.0->ipywidgets<8,>=7->mols2grid) (65.4.1)\n",
      "Requirement already satisfied: prompt-toolkit!=3.0.0,!=3.0.1,<3.1.0,>=2.0.0 in c:\\users\\franc\\anaconda3\\envs\\my-rdkit-env\\lib\\site-packages (from ipython>=4.0.0->ipywidgets<8,>=7->mols2grid) (3.0.20)\n",
      "Requirement already satisfied: notebook>=4.4.1 in c:\\users\\franc\\anaconda3\\envs\\my-rdkit-env\\lib\\site-packages (from widgetsnbextension~=3.6.0->ipywidgets<8,>=7->mols2grid) (6.4.12)\n",
      "Requirement already satisfied: parso<0.9.0,>=0.8.0 in c:\\users\\franc\\anaconda3\\envs\\my-rdkit-env\\lib\\site-packages (from jedi>=0.16->ipython>=4.0.0->ipywidgets<8,>=7->mols2grid) (0.8.3)\n",
      "Requirement already satisfied: jupyter-core>=4.9.2 in c:\\users\\franc\\anaconda3\\envs\\my-rdkit-env\\lib\\site-packages (from jupyter-client>=6.1.12->ipykernel>=4.5.1->ipywidgets<8,>=7->mols2grid) (4.11.1)\n",
      "Requirement already satisfied: entrypoints in c:\\users\\franc\\anaconda3\\envs\\my-rdkit-env\\lib\\site-packages (from jupyter-client>=6.1.12->ipykernel>=4.5.1->ipywidgets<8,>=7->mols2grid) (0.4)\n",
      "Requirement already satisfied: prometheus-client in c:\\users\\franc\\anaconda3\\envs\\my-rdkit-env\\lib\\site-packages (from notebook>=4.4.1->widgetsnbextension~=3.6.0->ipywidgets<8,>=7->mols2grid) (0.14.1)\n",
      "Requirement already satisfied: terminado>=0.8.3 in c:\\users\\franc\\anaconda3\\envs\\my-rdkit-env\\lib\\site-packages (from notebook>=4.4.1->widgetsnbextension~=3.6.0->ipywidgets<8,>=7->mols2grid) (0.13.1)\n",
      "Requirement already satisfied: nbformat in c:\\users\\franc\\anaconda3\\envs\\my-rdkit-env\\lib\\site-packages (from notebook>=4.4.1->widgetsnbextension~=3.6.0->ipywidgets<8,>=7->mols2grid) (5.5.0)\n",
      "Requirement already satisfied: Send2Trash>=1.8.0 in c:\\users\\franc\\anaconda3\\envs\\my-rdkit-env\\lib\\site-packages (from notebook>=4.4.1->widgetsnbextension~=3.6.0->ipywidgets<8,>=7->mols2grid) (1.8.0)\n",
      "Requirement already satisfied: argon2-cffi in c:\\users\\franc\\anaconda3\\envs\\my-rdkit-env\\lib\\site-packages (from notebook>=4.4.1->widgetsnbextension~=3.6.0->ipywidgets<8,>=7->mols2grid) (21.3.0)\n",
      "Requirement already satisfied: nbconvert>=5 in c:\\users\\franc\\anaconda3\\envs\\my-rdkit-env\\lib\\site-packages (from notebook>=4.4.1->widgetsnbextension~=3.6.0->ipywidgets<8,>=7->mols2grid) (6.4.4)\n",
      "Requirement already satisfied: wcwidth in c:\\users\\franc\\anaconda3\\envs\\my-rdkit-env\\lib\\site-packages (from prompt-toolkit!=3.0.0,!=3.0.1,<3.1.0,>=2.0.0->ipython>=4.0.0->ipywidgets<8,>=7->mols2grid) (0.2.5)\n",
      "Requirement already satisfied: pure-eval in c:\\users\\franc\\anaconda3\\envs\\my-rdkit-env\\lib\\site-packages (from stack-data->ipython>=4.0.0->ipywidgets<8,>=7->mols2grid) (0.2.2)\n",
      "Requirement already satisfied: asttokens in c:\\users\\franc\\anaconda3\\envs\\my-rdkit-env\\lib\\site-packages (from stack-data->ipython>=4.0.0->ipywidgets<8,>=7->mols2grid) (2.0.5)\n",
      "Requirement already satisfied: executing in c:\\users\\franc\\anaconda3\\envs\\my-rdkit-env\\lib\\site-packages (from stack-data->ipython>=4.0.0->ipywidgets<8,>=7->mols2grid) (0.8.3)\n",
      "Requirement already satisfied: pywin32>=1.0 in c:\\users\\franc\\anaconda3\\envs\\my-rdkit-env\\lib\\site-packages (from jupyter-core>=4.9.2->jupyter-client>=6.1.12->ipykernel>=4.5.1->ipywidgets<8,>=7->mols2grid) (302)\n",
      "Requirement already satisfied: jupyterlab-pygments in c:\\users\\franc\\anaconda3\\envs\\my-rdkit-env\\lib\\site-packages (from nbconvert>=5->notebook>=4.4.1->widgetsnbextension~=3.6.0->ipywidgets<8,>=7->mols2grid) (0.1.2)\n",
      "Requirement already satisfied: defusedxml in c:\\users\\franc\\anaconda3\\envs\\my-rdkit-env\\lib\\site-packages (from nbconvert>=5->notebook>=4.4.1->widgetsnbextension~=3.6.0->ipywidgets<8,>=7->mols2grid) (0.7.1)\n",
      "Requirement already satisfied: beautifulsoup4 in c:\\users\\franc\\anaconda3\\envs\\my-rdkit-env\\lib\\site-packages (from nbconvert>=5->notebook>=4.4.1->widgetsnbextension~=3.6.0->ipywidgets<8,>=7->mols2grid) (4.11.1)\n",
      "Requirement already satisfied: mistune<2,>=0.8.1 in c:\\users\\franc\\anaconda3\\envs\\my-rdkit-env\\lib\\site-packages (from nbconvert>=5->notebook>=4.4.1->widgetsnbextension~=3.6.0->ipywidgets<8,>=7->mols2grid) (0.8.4)\n",
      "Requirement already satisfied: testpath in c:\\users\\franc\\anaconda3\\envs\\my-rdkit-env\\lib\\site-packages (from nbconvert>=5->notebook>=4.4.1->widgetsnbextension~=3.6.0->ipywidgets<8,>=7->mols2grid) (0.6.0)\n",
      "Requirement already satisfied: bleach in c:\\users\\franc\\anaconda3\\envs\\my-rdkit-env\\lib\\site-packages (from nbconvert>=5->notebook>=4.4.1->widgetsnbextension~=3.6.0->ipywidgets<8,>=7->mols2grid) (4.1.0)\n",
      "Requirement already satisfied: pandocfilters>=1.4.1 in c:\\users\\franc\\anaconda3\\envs\\my-rdkit-env\\lib\\site-packages (from nbconvert>=5->notebook>=4.4.1->widgetsnbextension~=3.6.0->ipywidgets<8,>=7->mols2grid) (1.5.0)\n",
      "Requirement already satisfied: nbclient<0.6.0,>=0.5.0 in c:\\users\\franc\\anaconda3\\envs\\my-rdkit-env\\lib\\site-packages (from nbconvert>=5->notebook>=4.4.1->widgetsnbextension~=3.6.0->ipywidgets<8,>=7->mols2grid) (0.5.13)\n",
      "Requirement already satisfied: jsonschema>=2.6 in c:\\users\\franc\\anaconda3\\envs\\my-rdkit-env\\lib\\site-packages (from nbformat->notebook>=4.4.1->widgetsnbextension~=3.6.0->ipywidgets<8,>=7->mols2grid) (4.16.0)\n",
      "Requirement already satisfied: fastjsonschema in c:\\users\\franc\\anaconda3\\envs\\my-rdkit-env\\lib\\site-packages (from nbformat->notebook>=4.4.1->widgetsnbextension~=3.6.0->ipywidgets<8,>=7->mols2grid) (2.16.2)\n",
      "Requirement already satisfied: pywinpty>=1.1.0 in c:\\users\\franc\\anaconda3\\envs\\my-rdkit-env\\lib\\site-packages (from terminado>=0.8.3->notebook>=4.4.1->widgetsnbextension~=3.6.0->ipywidgets<8,>=7->mols2grid) (2.0.2)\n",
      "Requirement already satisfied: argon2-cffi-bindings in c:\\users\\franc\\anaconda3\\envs\\my-rdkit-env\\lib\\site-packages (from argon2-cffi->notebook>=4.4.1->widgetsnbextension~=3.6.0->ipywidgets<8,>=7->mols2grid) (21.2.0)\n",
      "Requirement already satisfied: attrs>=17.4.0 in c:\\users\\franc\\anaconda3\\envs\\my-rdkit-env\\lib\\site-packages (from jsonschema>=2.6->nbformat->notebook>=4.4.1->widgetsnbextension~=3.6.0->ipywidgets<8,>=7->mols2grid) (21.4.0)\n",
      "Requirement already satisfied: pyrsistent!=0.17.0,!=0.17.1,!=0.17.2,>=0.14.0 in c:\\users\\franc\\anaconda3\\envs\\my-rdkit-env\\lib\\site-packages (from jsonschema>=2.6->nbformat->notebook>=4.4.1->widgetsnbextension~=3.6.0->ipywidgets<8,>=7->mols2grid) (0.18.0)\n",
      "Requirement already satisfied: cffi>=1.0.1 in c:\\users\\franc\\anaconda3\\envs\\my-rdkit-env\\lib\\site-packages (from argon2-cffi-bindings->argon2-cffi->notebook>=4.4.1->widgetsnbextension~=3.6.0->ipywidgets<8,>=7->mols2grid) (1.15.1)\n",
      "Requirement already satisfied: soupsieve>1.2 in c:\\users\\franc\\anaconda3\\envs\\my-rdkit-env\\lib\\site-packages (from beautifulsoup4->nbconvert>=5->notebook>=4.4.1->widgetsnbextension~=3.6.0->ipywidgets<8,>=7->mols2grid) (2.3.1)\n",
      "Requirement already satisfied: webencodings in c:\\users\\franc\\anaconda3\\envs\\my-rdkit-env\\lib\\site-packages (from bleach->nbconvert>=5->notebook>=4.4.1->widgetsnbextension~=3.6.0->ipywidgets<8,>=7->mols2grid) (0.5.1)\n",
      "Requirement already satisfied: pycparser in c:\\users\\franc\\anaconda3\\envs\\my-rdkit-env\\lib\\site-packages (from cffi>=1.0.1->argon2-cffi-bindings->argon2-cffi->notebook>=4.4.1->widgetsnbextension~=3.6.0->ipywidgets<8,>=7->mols2grid) (2.21)\n",
      "Installing collected packages: urllib3, rdkit-pypi, jupyterlab-widgets, idna, charset-normalizer, requests, seaborn, widgetsnbextension, ipywidgets, mols2grid\n",
      "Successfully installed charset-normalizer-2.1.1 idna-3.4 ipywidgets-7.7.2 jupyterlab-widgets-1.1.1 mols2grid-1.0.0 rdkit-pypi-2022.3.5 requests-2.28.1 seaborn-0.12.0 urllib3-1.26.12 widgetsnbextension-3.6.1\n"
     ]
    }
   ],
   "source": [
    "!pip install rdkit-pypi pandas seaborn mols2grid requests"
   ]
  },
  {
   "cell_type": "code",
   "execution_count": 2,
   "id": "504adbcc",
   "metadata": {},
   "outputs": [],
   "source": [
    "from rdkit import Chem #RDKit Chemistry\n",
    "from rdkit.Chem.Draw import IPythonConsole #RDKit drawing\n",
    "from rdkit.Chem import Draw #RDKit drawing\n",
    "# A few settings to improve the quality of structures \n",
    "from rdkit.Chem import rdDepictor\n",
    "IPythonConsole.ipython_useSVG = True\n",
    "rdDepictor.SetPreferCoordGen(True)\n",
    "from rdkit.Chem import PandasTools #Add the ability to add a molecule to a dataframe\n",
    "import mols2grid #The mols2grid library provides a convenient way of displaying molecules in a grid\n",
    "import requests"
   ]
  },
  {
   "cell_type": "code",
   "execution_count": 8,
   "id": "d6b23aa7",
   "metadata": {},
   "outputs": [
    {
     "name": "stderr",
     "output_type": "stream",
     "text": [
      "[16:20:51] Explicit valence for atom # 28 N, 4, is greater than permitted\n",
      "[16:20:51] ERROR: Could not sanitize molecule ending on line 321019\n",
      "[16:20:51] ERROR: Explicit valence for atom # 28 N, 4, is greater than permitted\n",
      "[16:20:51] WARNING: not removing hydrogen atom without neighbors\n",
      "[16:20:51] WARNING: not removing hydrogen atom without neighbors\n"
     ]
    }
   ],
   "source": [
    "mols = [x for x in Chem.SDMolSupplier(\"drugbank-structures.sdf\")]"
   ]
  },
  {
   "cell_type": "markdown",
   "id": "5f33f55b",
   "metadata": {},
   "source": []
  }
 ],
 "metadata": {
  "kernelspec": {
   "display_name": "Python 3 (ipykernel)",
   "language": "python",
   "name": "python3"
  },
  "language_info": {
   "codemirror_mode": {
    "name": "ipython",
    "version": 3
   },
   "file_extension": ".py",
   "mimetype": "text/x-python",
   "name": "python",
   "nbconvert_exporter": "python",
   "pygments_lexer": "ipython3",
   "version": "3.10.6"
  }
 },
 "nbformat": 4,
 "nbformat_minor": 5
}
